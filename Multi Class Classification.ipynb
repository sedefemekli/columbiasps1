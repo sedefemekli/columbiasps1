{
 "cells": [
  {
   "cell_type": "code",
   "execution_count": 59,
   "id": "broke-miniature",
   "metadata": {},
   "outputs": [
    {
     "name": "stdout",
     "output_type": "stream",
     "text": [
      "[ 0  8  4  6  4  0  1 12  6  4  4  1  8 14  9  6  9  1  6 12  1  9  8 10\n",
      "  4 14  6  0  4 12  8  3  8 14 12  1 10 10  2  0  1  9  0  2 10  4  4  8\n",
      " 12  4 13 10  7  2 12  6  0  6  2  0  4  1 10  4 13  0  7 12  8  3 12 12\n",
      "  6  4 14 12  6  0  4  7  3  8  8  9 10  7 11  6 12 10  2  0  6 14  1  1\n",
      "  8  8  4 12 12  4  7  4  1 14  7 12  4  6  8  6 12 10  1  2 11  6  6  6\n",
      " 14  9  4  0 12 12 12 12 14  4  0 12  2  4 10]\n"
     ]
    }
   ],
   "source": [
    "import pandas as pd\n",
    "from sklearn.model_selection import train_test_split\n",
    "import matplotlib.pyplot as plt\n",
    "from sklearn import svm\n",
    "\n",
    "data = pd.read_csv('Datasets/ph-data.csv')\n",
    "\n",
    "data.drop_duplicates(inplace=True)\n",
    "\n",
    "y = data.iloc[:,3]\n",
    "X = data.iloc[:,0:2]\n",
    "\n",
    "X_train, X_test, y_train, y_test = train_test_split(X, y, test_size=0.3, random_state=42)\n",
    "\n",
    "predictor = SVC()\n",
    "predictor.fit(X_train, y_train)\n",
    "\n",
    "# y_pred = predictor.predict([[200, 100, 20]])\n",
    "y_pred = predictor.predict(X_test)\n",
    "print(y_pred)"
   ]
  },
  {
   "cell_type": "code",
   "execution_count": null,
   "id": "hearing-fifth",
   "metadata": {},
   "outputs": [],
   "source": []
  }
 ],
 "metadata": {
  "kernelspec": {
   "display_name": "Python 3",
   "language": "python",
   "name": "python3"
  },
  "language_info": {
   "codemirror_mode": {
    "name": "ipython",
    "version": 3
   },
   "file_extension": ".py",
   "mimetype": "text/x-python",
   "name": "python",
   "nbconvert_exporter": "python",
   "pygments_lexer": "ipython3",
   "version": "3.7.6"
  }
 },
 "nbformat": 4,
 "nbformat_minor": 5
}
